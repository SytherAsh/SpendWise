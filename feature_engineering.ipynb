{
 "cells": [
  {
   "cell_type": "code",
   "execution_count": 2,
   "metadata": {},
   "outputs": [],
   "source": [
    "!pip install --quiet numpy pandas seaborn scikit-learn tensorflow keras torch torchvision matplotlib pdfplumber"
   ]
  },
  {
   "cell_type": "code",
   "execution_count": 3,
   "metadata": {},
   "outputs": [],
   "source": [
    "from pdf_to_csv import pdf_to_csv as p2c"
   ]
  },
  {
   "cell_type": "code",
   "execution_count": 5,
   "metadata": {},
   "outputs": [],
   "source": [
    "p2c(\"1737776195902wPmrsJPBpy2dyn9Z.pdf\",\"\",\"yash.csv\")"
   ]
  },
  {
   "cell_type": "code",
   "execution_count": 6,
   "metadata": {},
   "outputs": [],
   "source": [
    "import pandas as pd\n",
    "df = pd.read_csv(\"yash.csv\")"
   ]
  },
  {
   "cell_type": "code",
   "execution_count": 7,
   "metadata": {},
   "outputs": [
    {
     "data": {
      "text/html": [
       "<div>\n",
       "<style scoped>\n",
       "    .dataframe tbody tr th:only-of-type {\n",
       "        vertical-align: middle;\n",
       "    }\n",
       "\n",
       "    .dataframe tbody tr th {\n",
       "        vertical-align: top;\n",
       "    }\n",
       "\n",
       "    .dataframe thead th {\n",
       "        text-align: right;\n",
       "    }\n",
       "</style>\n",
       "<table border=\"1\" class=\"dataframe\">\n",
       "  <thead>\n",
       "    <tr style=\"text-align: right;\">\n",
       "      <th></th>\n",
       "      <th>Txn Date</th>\n",
       "      <th>Value\\nDate</th>\n",
       "      <th>Description</th>\n",
       "      <th>Ref No./Cheque\\nNo.</th>\n",
       "      <th>Debit</th>\n",
       "      <th>Credit</th>\n",
       "      <th>Balance</th>\n",
       "    </tr>\n",
       "  </thead>\n",
       "  <tbody>\n",
       "    <tr>\n",
       "      <th>0</th>\n",
       "      <td>2 Apr 2024</td>\n",
       "      <td>2 Apr 2024</td>\n",
       "      <td>TO TRANSFER-\\nUPI/DR/409378221768/JULFIK\\nAR/Y...</td>\n",
       "      <td>TRANSFER TO\\n4897691162095</td>\n",
       "      <td>30.00</td>\n",
       "      <td>NaN</td>\n",
       "      <td>954.40</td>\n",
       "    </tr>\n",
       "    <tr>\n",
       "      <th>1</th>\n",
       "      <td>4 Apr 2024</td>\n",
       "      <td>4 Apr 2024</td>\n",
       "      <td>BY TRANSFER-INB\\nIMPS409519772968/98901605\\n67...</td>\n",
       "      <td>MAM0000786850\\n23\\nMAM0000786850\\n23</td>\n",
       "      <td>NaN</td>\n",
       "      <td>500.00</td>\n",
       "      <td>1,454.40</td>\n",
       "    </tr>\n",
       "    <tr>\n",
       "      <th>2</th>\n",
       "      <td>5 Apr 2024</td>\n",
       "      <td>5 Apr 2024</td>\n",
       "      <td>TO TRANSFER-\\nUPI/DR/409652615602/VINAY\\nAK /H...</td>\n",
       "      <td>TRANSFER TO\\n4897694162092</td>\n",
       "      <td>64.00</td>\n",
       "      <td>NaN</td>\n",
       "      <td>1,390.40</td>\n",
       "    </tr>\n",
       "    <tr>\n",
       "      <th>3</th>\n",
       "      <td>6 Apr 2024</td>\n",
       "      <td>6 Apr 2024</td>\n",
       "      <td>BY TRANSFER-INB\\nIMPS409719092273/98901605\\n67...</td>\n",
       "      <td>MAP00007710137\\n8\\nMAP00007710137\\n8</td>\n",
       "      <td>NaN</td>\n",
       "      <td>1,500.00</td>\n",
       "      <td>2,890.40</td>\n",
       "    </tr>\n",
       "    <tr>\n",
       "      <th>4</th>\n",
       "      <td>9 Apr 2024</td>\n",
       "      <td>9 Apr 2024</td>\n",
       "      <td>TO TRANSFER-\\nUPI/DR/410014886005/BHART\\nI A/A...</td>\n",
       "      <td>TRANSFER TO\\n4897691162095</td>\n",
       "      <td>719.00</td>\n",
       "      <td>NaN</td>\n",
       "      <td>2,171.40</td>\n",
       "    </tr>\n",
       "  </tbody>\n",
       "</table>\n",
       "</div>"
      ],
      "text/plain": [
       "     Txn Date Value\\nDate                                        Description  \\\n",
       "0  2 Apr 2024  2 Apr 2024  TO TRANSFER-\\nUPI/DR/409378221768/JULFIK\\nAR/Y...   \n",
       "1  4 Apr 2024  4 Apr 2024  BY TRANSFER-INB\\nIMPS409519772968/98901605\\n67...   \n",
       "2  5 Apr 2024  5 Apr 2024  TO TRANSFER-\\nUPI/DR/409652615602/VINAY\\nAK /H...   \n",
       "3  6 Apr 2024  6 Apr 2024  BY TRANSFER-INB\\nIMPS409719092273/98901605\\n67...   \n",
       "4  9 Apr 2024  9 Apr 2024  TO TRANSFER-\\nUPI/DR/410014886005/BHART\\nI A/A...   \n",
       "\n",
       "                    Ref No./Cheque\\nNo.   Debit    Credit   Balance  \n",
       "0            TRANSFER TO\\n4897691162095   30.00       NaN    954.40  \n",
       "1  MAM0000786850\\n23\\nMAM0000786850\\n23     NaN    500.00  1,454.40  \n",
       "2            TRANSFER TO\\n4897694162092   64.00       NaN  1,390.40  \n",
       "3  MAP00007710137\\n8\\nMAP00007710137\\n8     NaN  1,500.00  2,890.40  \n",
       "4            TRANSFER TO\\n4897691162095  719.00       NaN  2,171.40  "
      ]
     },
     "execution_count": 7,
     "metadata": {},
     "output_type": "execute_result"
    }
   ],
   "source": [
    "df.head()"
   ]
  },
  {
   "cell_type": "code",
   "execution_count": null,
   "metadata": {},
   "outputs": [],
   "source": []
  }
 ],
 "metadata": {
  "kernelspec": {
   "display_name": "venv",
   "language": "python",
   "name": "python3"
  },
  "language_info": {
   "codemirror_mode": {
    "name": "ipython",
    "version": 3
   },
   "file_extension": ".py",
   "mimetype": "text/x-python",
   "name": "python",
   "nbconvert_exporter": "python",
   "pygments_lexer": "ipython3",
   "version": "3.11.11"
  }
 },
 "nbformat": 4,
 "nbformat_minor": 2
}
