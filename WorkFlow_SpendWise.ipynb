{
 "cells": [
  {
   "cell_type": "markdown",
   "id": "f019de10",
   "metadata": {},
   "source": [
    "Types of Transaction\n",
    "--"
   ]
  },
  {
   "cell_type": "code",
   "execution_count": null,
   "id": "8993a541",
   "metadata": {},
   "outputs": [],
   "source": [
    "transaction_modes = [\n",
    "    \"UPI\",               # Unified Payments Interface\n",
    "    \"INB\",               # Internet Banking\n",
    "    \"IMP\",               # Immediate Payment Service\n",
    "    \"NEFT\",              # National Electronic Funds Transfer\n",
    "    \"RTGS\",              # Real-Time Gross Settlement\n",
    "    \"Cheque\",            # Paper Cheque\n",
    "    \"Cash Deposit\",      # Cash Deposit to account\n",
    "    \"Cash Withdrawal\",   # Withdrawal using cash\n",
    "    \"POS\",               # Point of Sale (Card Payment)\n",
    "    \"DD\",                # Demand Draft\n",
    "    \"SWIFT\",             # Society for Worldwide Interbank Financial Telecommunication\n",
    "    \"Wire Transfer\",     # Electronic bank transfer\n",
    "    \"ECS\",               # Electronic Clearing Service\n",
    "    \"Bill Pay\",          # Utility Bill Payments\n",
    "    \"M-wallet\",          # Mobile Wallet Transfer\n",
    "    \"EMI\",               # Equated Monthly Installment\n",
    "    \"EFT\",               # Electronic Funds Transfer\n",
    "    \"ACH\",               # Automated Clearing House\n",
    "]\n"
   ]
  },
  {
   "cell_type": "markdown",
   "id": "57b65c87",
   "metadata": {},
   "source": [
    "Dependencies\n",
    "--"
   ]
  },
  {
   "cell_type": "code",
   "execution_count": 3,
   "id": "155e695f",
   "metadata": {},
   "outputs": [],
   "source": [
    "import pandas as pd\n",
    "pd.set_option('display.max_colwidth', None)  # Display full content of each column\n",
    "pd.set_option('display.max_columns', None)   # Display all columns\n",
    "pd.set_option('display.width', 5000)         # Set display width\n"
   ]
  },
  {
   "cell_type": "markdown",
   "id": "9c20d732",
   "metadata": {},
   "source": [
    "Pdf-Csv\n",
    "--"
   ]
  },
  {
   "cell_type": "code",
   "execution_count": 3,
   "id": "cfb360e3",
   "metadata": {},
   "outputs": [],
   "source": [
    "import pdfplumber\n",
    "\n",
    "def pdf_to_csv(pdf_path):\n",
    "    pdf = pdfplumber.open(pdf_path)\n",
    "\n",
    "    df = pd.DataFrame()\n",
    "\n",
    "    for i in range(len(pdf.pages)):\n",
    "        table = pdf.pages[i].extract_table()\n",
    "        local_df = pd.DataFrame(table[1:], columns=table[0])\n",
    "        df = pd.concat([df, local_df], ignore_index=True)\n",
    "    return df\n",
    "\n",
    "    \n"
   ]
  },
  {
   "cell_type": "markdown",
   "id": "48d67eb1",
   "metadata": {},
   "source": [
    "Merge ALL CSV'S\n",
    "--"
   ]
  },
  {
   "cell_type": "code",
   "execution_count": 4,
   "id": "e20b75c2",
   "metadata": {},
   "outputs": [],
   "source": [
    "# df1=pd.read_csv(\"24-25.csv\")\n",
    "# df2=pd.read_csv(\"23-24.csv\")\n",
    "# df3=pd.read_csv(\"22-23.csv\")\n",
    "\n",
    "# df = pd.concat([df1, df2, df3], ignore_index=True)\n",
    "\n",
    "# df.to_csv(\"Merge.csv\",index=False)\n",
    "# df.columns"
   ]
  },
  {
   "cell_type": "code",
   "execution_count": null,
   "id": "b91fb7ab",
   "metadata": {},
   "outputs": [],
   "source": []
  },
  {
   "cell_type": "markdown",
   "id": "a895fb42",
   "metadata": {},
   "source": [
    "PATHS\n",
    "--"
   ]
  },
  {
   "cell_type": "code",
   "execution_count": 5,
   "id": "5c757eaf",
   "metadata": {},
   "outputs": [],
   "source": [
    "pdf_path=\"\"\n",
    "Processed_output_path=\"\""
   ]
  },
  {
   "cell_type": "markdown",
   "id": "398e589b",
   "metadata": {},
   "source": [
    "Segregate Columns with Mode/Name/ID/Note\n",
    "--"
   ]
  },
  {
   "cell_type": "code",
   "execution_count": 7,
   "id": "187acbc9",
   "metadata": {},
   "outputs": [],
   "source": [
    "import re\n",
    "import pandas as pd\n",
    "\n",
    "# List of all transaction modes\n",
    "transaction_modes = [\n",
    "    \"UPI\", \"INB\", \"IMP\", \"NEFT\", \"RTGS\", \"Cheque\", \"Cash Deposit\", \"Cash Withdrawal\", \n",
    "    \"POS\", \"DD\", \"SWIFT\", \"Wire Transfer\", \"ECS\", \"Bill Pay\", \"M-wallet\", \"EMI\", \"EFT\", \"ACH\"\n",
    "]\n",
    "\n",
    "pattern = re.compile(\n",
    "    r\"(?P<type>TO|BY) TRANSFER-(?P<method>[A-Z0-9]+)\"\n",
    "    r\"/(?P<drcr>DR|CR)/(?P<id>\\d+)/(?P<name>[^/]+)/(?P<bank>[A-Z]+)/(?P<upi_id>[^/]+)(?:/(?P<optional>[^-]+))?\"\n",
    ")\n",
    "\n",
    "def extract_details(description):\n",
    "    match = pattern.search(description)\n",
    "    if match:\n",
    "        return pd.Series({\n",
    "            \"Transaction Type\": match.group(\"type\"),\n",
    "            \"Transaction Mode\": match.group(\"method\"),\n",
    "            \"DR/CR Indicator\": match.group(\"drcr\"),\n",
    "            \"Transaction ID\": match.group(\"id\"),\n",
    "            \"Recipient Name\": match.group(\"name\"),\n",
    "            \"Bank\": match.group(\"bank\"),\n",
    "            \"UPI ID\": match.group(\"upi_id\"),\n",
    "            \"Note\": match.group(\"optional\") if match.group(\"optional\") else \"N/A\"\n",
    "        })\n",
    "    else:\n",
    "        # Handle unstructured descriptions by splitting on '/'\n",
    "        split_data = description.split('/')\n",
    "        \n",
    "        # Extract Transaction Mode by checking against the list\n",
    "        transaction_mode = \"N/A\"\n",
    "        for mode in transaction_modes:\n",
    "            if mode in description:\n",
    "                transaction_mode = mode\n",
    "                break\n",
    "\n",
    "        return pd.Series({\n",
    "            \"Transaction Type\": \"BY\" if \"BY\" in description else \"TO\",\n",
    "            \"Transaction Mode\": transaction_mode,\n",
    "            \"DR/CR Indicator\": \"N/A\",\n",
    "            \"Transaction ID\": split_data[1] if len(split_data) > 1 else 'N/A',\n",
    "            \"Recipient Name\": split_data[2] if len(split_data) > 2 else 'N/A',\n",
    "            \"Bank\": \"N/A\",\n",
    "            \"UPI ID\": \"N/A\",\n",
    "            \"Note\": split_data[3] if len(split_data) > 3 else 'N/A'\n",
    "        })\n",
    "\n",
    "text = \"BY TRANSFER-INBIMPS409519772968/9890160567/XX8237/Son-\"\n",
    "\n",
    "# print(extract_details(text))\n"
   ]
  },
  {
   "cell_type": "markdown",
   "id": "4e560ae8",
   "metadata": {},
   "source": [
    "Csv-Organized\n",
    "--"
   ]
  },
  {
   "cell_type": "code",
   "execution_count": 8,
   "id": "c1fa7702",
   "metadata": {},
   "outputs": [],
   "source": [
    "df=pdf_to_csv(pdf_path)\n",
    "\n",
    "df = df.replace('\\n', '', regex=True)\n",
    "\n",
    "df = df.rename(columns={\n",
    "    'Txn Date': 'Transaction Date',\n",
    "    'Value\\nDate': 'Value Date',\n",
    "    'Description': 'Description',\n",
    "    'Ref No./Cheque\\nNo.': 'Reference No./Cheque No.',\n",
    "    'Debit': 'Debit',\n",
    "    'Credit': 'Credit',\n",
    "    'Balance': 'Balance'\n",
    "})\n",
    "df=df.drop(columns=['Value Date'])\n",
    "df_extracted = df['Description'].apply(extract_details)\n",
    "\n",
    "df = pd.concat([df, df_extracted], axis=1)\n",
    "\n",
    "# df.to_csv(csv_path, index=False)\n"
   ]
  },
  {
   "cell_type": "markdown",
   "id": "e3ea7fcb",
   "metadata": {},
   "source": [
    "Converting Dtypes\n",
    "--"
   ]
  },
  {
   "cell_type": "code",
   "execution_count": 7,
   "id": "f608accb",
   "metadata": {},
   "outputs": [],
   "source": [
    "df['Transaction Date'] = df['Transaction Date'].str.replace(r'(\\d{1,2})\\s*([A-Za-z]{3})(\\d{4})', r'\\1 \\2 \\3', regex=True)\n",
    "df['Transaction Date'] = pd.to_datetime(df['Transaction Date'], format='%d %b %Y', dayfirst=True)\n",
    "\n",
    "df['Debit'] = pd.to_numeric(df['Debit'].replace({',': '', 'nan': None, ' ': ''}, regex=True), errors='coerce')\n",
    "df['Credit'] = pd.to_numeric(df['Credit'].replace({',': '', 'nan': None, ' ': ''}, regex=True), errors='coerce')\n",
    "df['Balance'] = pd.to_numeric(df['Balance'].replace({',': '', 'nan': None, ' ': ''}, regex=True), errors='coerce')\n",
    "\n",
    "categorical_cols = ['Transaction_Type', 'Transaction_Mode', 'DR/CR Indicator', \n",
    "                    'Recipient_Name', 'Bank', 'Upi_Id', 'Note']\n",
    "\n",
    "for col in categorical_cols:\n",
    "    df[col] = df[col].astype('category')\n",
    "\n",
    "\n",
    "df['Reference No./Cheque No.'] = df['Reference No./Cheque No.'].astype(str)\n",
    "df['Transaction ID'] = df['Transaction ID'].astype(str)\n"
   ]
  },
  {
   "cell_type": "markdown",
   "id": "f292179e",
   "metadata": {},
   "source": [
    "Handling NAN\n",
    "--"
   ]
  },
  {
   "cell_type": "code",
   "execution_count": 11,
   "id": "1252782f",
   "metadata": {},
   "outputs": [],
   "source": [
    "df['Debit'] = pd.to_numeric(df['Debit'], errors='coerce').fillna(0)\n",
    "df['Credit'] = pd.to_numeric(df['Credit'], errors='coerce').fillna(0)\n",
    "\n",
    "def determine_dr_cr(df):\n",
    "    for i in range(1, len(df)):  \n",
    "        \n",
    "        balance_diff = df.loc[i, 'Balance'] - df.loc[i-1, 'Balance']\n",
    "        \n",
    "        if balance_diff > 0:\n",
    "            df.loc[i, 'DR/CR Indicator'] = 'CR'\n",
    "        else:\n",
    "            df.loc[i, 'DR/CR Indicator'] = 'DR'\n",
    "    return df\n",
    "\n",
    "def update_transaction_mode(row):\n",
    "    if 'ATM' in row['Description']:\n",
    "        row['Transaction Mode'] = 'ATM'\n",
    "    return row\n",
    "\n",
    "df = df.apply(update_transaction_mode, axis=1)\n",
    "\n",
    "df = determine_dr_cr(df)\n"
   ]
  },
  {
   "cell_type": "code",
   "execution_count": 23,
   "id": "cfd04f76",
   "metadata": {},
   "outputs": [],
   "source": [
    "\n",
    "# df=pd.read_csv(\"Merge_Proccessed.csv\")\n",
    "# df.columns\n"
   ]
  },
  {
   "cell_type": "markdown",
   "id": "f02c4263",
   "metadata": {},
   "source": [
    "Features\n",
    "--"
   ]
  },
  {
   "cell_type": "code",
   "execution_count": 18,
   "id": "1824af05",
   "metadata": {},
   "outputs": [
    {
     "name": "stderr",
     "output_type": "stream",
     "text": [
      "C:\\Users\\yashs\\AppData\\Local\\Temp\\ipykernel_17600\\4200821036.py:56: FutureWarning: A value is trying to be set on a copy of a DataFrame or Series through chained assignment using an inplace method.\n",
      "The behavior will change in pandas 3.0. This inplace method will never work because the intermediate object on which we are setting values always behaves as a copy.\n",
      "\n",
      "For example, when doing 'df[col].method(value, inplace=True)', try using 'df.method({col: value}, inplace=True)' or df[col] = df[col].method(value) instead, to perform the operation inplace on the original object.\n",
      "\n",
      "\n",
      "  df['time_since_last_transaction'].fillna(0, inplace=True)\n"
     ]
    }
   ],
   "source": [
    "import pandas as pd\n",
    "import numpy as np\n",
    "from pandas.api.types import CategoricalDtype\n",
    "\n",
    "def feature_engineering(df):\n",
    "    # Ensure 'Transaction Date' is datetime\n",
    "    df['Transaction Date'] = pd.to_datetime(df['Transaction Date'])\n",
    "\n",
    "    # Categorical day of the week\n",
    "    cat_type = CategoricalDtype(categories=['Monday', 'Tuesday', 'Wednesday', 'Thursday', 'Friday', 'Saturday', 'Sunday'], ordered=True)\n",
    "    \n",
    "    # Extract time-based features\n",
    "    df['dayofweek'] = df['Transaction Date'].dt.dayofweek  # 0=Monday, 6=Sunday\n",
    "    df['weekday'] = df['Transaction Date'].dt.day_name().astype(cat_type)\n",
    "    df['quarter'] = df['Transaction Date'].dt.quarter\n",
    "    df['month'] = df['Transaction Date'].dt.month\n",
    "    df['year'] = df['Transaction Date'].dt.year\n",
    "    df['dayofyear'] = df['Transaction Date'].dt.dayofyear\n",
    "    df['dayofmonth'] = df['Transaction Date'].dt.day\n",
    "    df['weekofyear'] = df['Transaction Date'].dt.isocalendar().week\n",
    "    df['weekofmonth'] = df['Transaction Date'].apply(lambda x: (x.day - 1) // 7 + 1)\n",
    "    \n",
    "    df['date_offset'] = (df['Transaction Date'].dt.month * 100 + df['Transaction Date'].dt.day - 320) % 1300\n",
    "    df['is_weekend'] = df['dayofweek'].apply(lambda x: 1 if x >= 5 else 0)\n",
    "\n",
    "\n",
    "    # Start/End of period flags\n",
    "    df['is_month_start'] = df['Transaction Date'].dt.is_month_start.astype(int)\n",
    "    df['is_month_end'] = df['Transaction Date'].dt.is_month_end.astype(int)\n",
    "    df['is_quarter_start'] = df['Transaction Date'].dt.is_quarter_start.astype(int)\n",
    "    df['is_quarter_end'] = df['Transaction Date'].dt.is_quarter_end.astype(int)\n",
    "    \n",
    "    # Create transaction amount column\n",
    "    df['transaction_amount'] = df['Debit'].fillna(df['Credit'])\n",
    "    df['is_large_transaction'] = df['transaction_amount'].apply(lambda x: 1 if x > 1000 else 0)\n",
    "\n",
    "    # Transaction count per day, week, and month\n",
    "    df['transaction_count_per_day'] = df.groupby(df['Transaction Date'].dt.date)['Transaction ID'].transform('count')\n",
    "    df['transaction_count_per_week'] = df.groupby(df['weekofyear'])['Transaction ID'].transform('count')\n",
    "    df['transaction_count_per_month'] = df.groupby(df['month'])['Transaction ID'].transform('count')\n",
    "\n",
    "    # Average transaction per day\n",
    "    df['average_transaction_per_day'] = df.groupby(df['Transaction Date'].dt.date)['transaction_amount'].transform('mean')\n",
    "\n",
    "    # Cumulative spent per day\n",
    "    df['cumulative_spent_per_day'] = df.groupby(df['Transaction Date'].dt.date)['Debit'].cumsum()\n",
    "\n",
    "    # Time since last transaction\n",
    "    df = df.sort_values(by=['Transaction Date'])\n",
    "    df['time_since_last_transaction'] = df['Transaction Date'].diff().dt.total_seconds() / 3600  # in hours\n",
    "    df['time_since_last_transaction'].fillna(0, inplace=True)\n",
    "\n",
    "    # Rolling average transactions over past 7 & 30 days\n",
    "    df['rolling_avg_transaction_7d'] = df['transaction_amount'].rolling(window=7, min_periods=1).mean()\n",
    "    df['rolling_avg_transaction_30d'] = df['transaction_amount'].rolling(window=30, min_periods=1).mean()\n",
    "\n",
    "    return df\n",
    "\n",
    "# Example Usage\n",
    "df = feature_engineering(df)\n"
   ]
  },
  {
   "cell_type": "code",
   "execution_count": 21,
   "id": "63b68183",
   "metadata": {
    "scrolled": true
   },
   "outputs": [
    {
     "data": {
      "text/html": [
       "\n",
       "        <iframe\n",
       "            width=\"100%\"\n",
       "            height=\"475\"\n",
       "            src=\"http://YASH:40000/dtale/iframe/1\"\n",
       "            frameborder=\"0\"\n",
       "            allowfullscreen\n",
       "            \n",
       "        ></iframe>\n",
       "        "
      ],
      "text/plain": [
       "<IPython.lib.display.IFrame at 0x1f64fb60b20>"
      ]
     },
     "metadata": {},
     "output_type": "display_data"
    },
    {
     "data": {
      "text/plain": []
     },
     "execution_count": 21,
     "metadata": {},
     "output_type": "execute_result"
    }
   ],
   "source": [
    "import dtale\n",
    "\n",
    "dtale.show(df)"
   ]
  },
  {
   "cell_type": "code",
   "execution_count": null,
   "id": "f3cd563a",
   "metadata": {},
   "outputs": [],
   "source": []
  },
  {
   "cell_type": "markdown",
   "id": "487b05a2",
   "metadata": {},
   "source": [
    "Save Processed CSV\n",
    "--"
   ]
  },
  {
   "cell_type": "code",
   "execution_count": 24,
   "id": "58a03661",
   "metadata": {},
   "outputs": [],
   "source": [
    "df.to_csv(Processed_output_path, index=False)\n"
   ]
  },
  {
   "cell_type": "code",
   "execution_count": 25,
   "id": "d7fdd06d",
   "metadata": {},
   "outputs": [
    {
     "data": {
      "text/plain": [
       "Index(['Transaction Date', 'Value Date', 'Description', 'Reference No./Cheque No.', 'Debit', 'Credit', 'Balance', 'Transaction Type', 'Transaction Mode', 'DR/CR Indicator', 'Transaction ID', 'Recipient Name', 'Bank', 'UPI ID', 'Note', 'dayofweek', 'weekday', 'quarter', 'month', 'year', 'dayofyear', 'dayofmonth', 'weekofyear', 'date_offset', 'is_weekend', 'weekofmonth', 'is_month_start', 'is_month_end', 'is_quarter_start', 'is_quarter_end', 'hour', 'minute', 'second', 'transaction_amount', 'is_large_transaction', 'transaction_count_per_day', 'transaction_count_per_week', 'transaction_count_per_month', 'average_transaction_per_day', 'cumulative_spent_per_day', 'time_since_last_transaction', 'rolling_avg_transaction_7d', 'rolling_avg_transaction_30d'], dtype='object')"
      ]
     },
     "execution_count": 25,
     "metadata": {},
     "output_type": "execute_result"
    }
   ],
   "source": [
    "df.columns"
   ]
  },
  {
   "cell_type": "markdown",
   "id": "2aaf97a1",
   "metadata": {},
   "source": [
    "Print N/A\n",
    "--"
   ]
  },
  {
   "cell_type": "code",
   "execution_count": 26,
   "id": "31c73ab4",
   "metadata": {},
   "outputs": [
    {
     "name": "stdout",
     "output_type": "stream",
     "text": [
      "Number of 'N/A' values per column:\n"
     ]
    },
    {
     "name": "stderr",
     "output_type": "stream",
     "text": [
      "C:\\Users\\yashs\\AppData\\Local\\Temp\\ipykernel_17600\\703361585.py:1: FutureWarning:\n",
      "\n",
      "DataFrame.applymap has been deprecated. Use DataFrame.map instead.\n",
      "\n"
     ]
    }
   ],
   "source": [
    "na_count_per_column = df.applymap(lambda x: x == \"N/A\").sum()\n",
    "\n",
    "# Print the result\n",
    "print(\"Number of 'N/A' values per column:\")\n",
    "# print(na_count_per_column)"
   ]
  },
  {
   "cell_type": "markdown",
   "id": "97ef27f5",
   "metadata": {},
   "source": [
    "Print Everthing\n",
    "--"
   ]
  },
  {
   "cell_type": "code",
   "execution_count": 11,
   "id": "0cdc9eea",
   "metadata": {},
   "outputs": [],
   "source": [
    "def print_transaction_details(df):\n",
    "    \"\"\"\n",
    "    Prints every row with all the extracted details from the DataFrame.\n",
    "    \"\"\"\n",
    "    for index, row in df.iterrows():\n",
    "        print(f\"Row {index}:\")\n",
    "        for col in df.columns:\n",
    "            print(f\"  {col}: {row[col]}\")\n",
    "        print(\"-\" * 50)  # Separator for better readability\n",
    "# print_transaction_details(df)\n",
    "        "
   ]
  },
  {
   "cell_type": "markdown",
   "id": "adaf68f8",
   "metadata": {},
   "source": [
    "Holidays\n",
    "--"
   ]
  },
  {
   "cell_type": "code",
   "execution_count": null,
   "id": "02f24c85",
   "metadata": {},
   "outputs": [],
   "source": [
    "import holidays\n",
    "import pandas as pd\n",
    "\n",
    "indian_holidays = holidays.India(years=2024)\n",
    "\n",
    "df = pd.DataFrame(indian_holidays.items(), columns=[\"Date\", \"Holiday\"])\n",
    "df[\"Date\"] = pd.to_datetime(df[\"Date\"])\n",
    "\n",
    "df\n"
   ]
  }
 ],
 "metadata": {
  "kernelspec": {
   "display_name": "PrePro",
   "language": "python",
   "name": "preprocessor"
  },
  "language_info": {
   "codemirror_mode": {
    "name": "ipython",
    "version": 3
   },
   "file_extension": ".py",
   "mimetype": "text/x-python",
   "name": "python",
   "nbconvert_exporter": "python",
   "pygments_lexer": "ipython3",
   "version": "3.9.6"
  }
 },
 "nbformat": 4,
 "nbformat_minor": 5
}
