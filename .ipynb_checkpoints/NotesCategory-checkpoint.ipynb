{
 "cells": [
  {
   "cell_type": "code",
   "execution_count": 49,
   "id": "dbc9b434",
   "metadata": {},
   "outputs": [],
   "source": [
    "import pandas as pd"
   ]
  },
  {
   "cell_type": "code",
   "execution_count": 50,
   "id": "0df6a7cb",
   "metadata": {},
   "outputs": [],
   "source": [
    "df=pd.read_csv(\"Features.csv\")"
   ]
  },
  {
   "cell_type": "code",
   "execution_count": 51,
   "id": "7bbd5292",
   "metadata": {},
   "outputs": [
    {
     "data": {
      "text/plain": [
       "(741, 26)"
      ]
     },
     "execution_count": 51,
     "metadata": {},
     "output_type": "execute_result"
    }
   ],
   "source": [
    "df.shape"
   ]
  },
  {
   "cell_type": "code",
   "execution_count": 52,
   "id": "34a71846",
   "metadata": {},
   "outputs": [],
   "source": [
    "df=df[['Recipient Name','UPI ID','Note']]"
   ]
  },
  {
   "cell_type": "code",
   "execution_count": 53,
   "id": "b401d366",
   "metadata": {},
   "outputs": [
    {
     "name": "stdout",
     "output_type": "stream",
     "text": [
      "{'Essentials (Daily Necessities)': ['Groceries', 'Rent & Housing', 'Utilities & Bills', 'Transportation'], 'Lifestyle & Shopping': ['Dining & Restaurants', 'Clothing & Accessories', 'Electronics & Gadgets', 'Entertainment & Subscriptions'], 'Financial & Investments': ['Loan & EMI Payments', 'Savings & Investments', 'Insurance Payments', 'Credit Card Payments'], 'Health & Wellness': ['Medical & Pharmacy', 'Fitness & Sports', 'Personal Care'], 'Travel & Leisure': ['Hotel & Accommodation', 'Flight & Train Tickets', 'Tours & Experiences'], 'Education & Professional Expenses': ['School & College Fees', 'Books & Learning Materials', 'Professional Subscriptions'], 'Social & Personal Payments': ['Gifts & Donations', 'Family & Friends Transfers', 'Events & Celebrations'], 'Miscellaneous (Everything Else)': ['Cash Withdrawals', 'Penalties & Fines', 'Uncategorized']}\n"
     ]
    }
   ],
   "source": [
    "transaction_categories = {\n",
    "    \"Essentials (Daily Necessities)\": [\n",
    "        \"Groceries\", \"Rent & Housing\", \"Utilities & Bills\", \"Transportation\"\n",
    "    ],\n",
    "    \"Lifestyle & Shopping\": [\n",
    "        \"Dining & Restaurants\", \"Clothing & Accessories\", \n",
    "        \"Electronics & Gadgets\", \"Entertainment & Subscriptions\"\n",
    "    ],\n",
    "    \"Financial & Investments\": [\n",
    "        \"Loan & EMI Payments\", \"Savings & Investments\", \n",
    "        \"Insurance Payments\", \"Credit Card Payments\"\n",
    "    ],\n",
    "    \"Health & Wellness\": [\n",
    "        \"Medical & Pharmacy\", \"Fitness & Sports\", \"Personal Care\"\n",
    "    ],\n",
    "    \"Travel & Leisure\": [\n",
    "        \"Hotel & Accommodation\", \"Flight & Train Tickets\", \"Tours & Experiences\"\n",
    "    ],\n",
    "    \"Education & Professional Expenses\": [\n",
    "        \"School & College Fees\", \"Books & Learning Materials\", \n",
    "        \"Professional Subscriptions\"\n",
    "    ],\n",
    "    \"Social & Personal Payments\": [\n",
    "        \"Gifts & Donations\", \"Family & Friends Transfers\", \"Events & Celebrations\"\n",
    "    ],\n",
    "    \"Miscellaneous (Everything Else)\": [\n",
    "        \"Cash Withdrawals\", \"Penalties & Fines\", \"Uncategorized\"\n",
    "    ]\n",
    "}\n",
    "\n",
    "# Print the dictionary\n",
    "print(transaction_categories)\n"
   ]
  },
  {
   "cell_type": "code",
   "execution_count": 54,
   "id": "0f3c2539",
   "metadata": {},
   "outputs": [],
   "source": [
    "\n",
    "company_keywords = {\n",
    "    \"BurgerKing\": [\"burgerking\", \"burger king\"],\n",
    "    \"McDonald's\": [\"mcdonald\", \"mcd\", \"mc donalds\"],\n",
    "    \"Amul\": [\"amul\"],\n",
    "    \"Airtel\": [\"airtel\", \"airtelpay\",\"bharti a\",'bhartia'],\n",
    "    \"Vodafone\": [\"vodafone\", \"vodapay\"],\n",
    "    \"Jio\": [\"jio\", \"reliance jio\"],\n",
    "    \"Amazon\": [\"amazon\"],\n",
    "    \"Flipkart\": [\"flipkart\"],\n",
    "    \"Swiggy\": [\"swiggy\"],\n",
    "    \"Zomato\": [\"zomato\"],\n",
    "    \"Google Pay\": [\"gpay\", \"googlepay\", \"tez\"],\n",
    "    \"Ola\": [\"ola\"],\n",
    "    \"Uber\": [\"uber\"],\n",
    "    \"Netflix\": [\"netflix\"],\n",
    "    \"Hotstar\": [\"hotstar\"],\n",
    "    \"Tata Sky\": [\"tatasky\"],\n",
    "    \"IRCTC\": [\"irctc\", \"railway\"],\n",
    "    \n",
    "    \"JumboKing\": [ \"jumboki\"],\n",
    "    \n",
    "    \"Dominos\": [\"dominos\", \"domino's\"],\n",
    "    \"PizzaHut\": [\"pizzahut\", \"pizza hut\"],\n",
    "    \"Reliance\": [\"reliance\", \"reliance mart\"],\n",
    "    \"BigBazaar\": [\"bigbazaar\", \"big bazaar\"],\n",
    "}\n"
   ]
  },
  {
   "cell_type": "code",
   "execution_count": 55,
   "id": "86729847",
   "metadata": {},
   "outputs": [
    {
     "name": "stderr",
     "output_type": "stream",
     "text": [
      "Mapping Companies:   0%|▏                                                             | 2/741 [00:00<00:03, 200.00it/s]\n"
     ]
    },
    {
     "ename": "TypeError",
     "evalue": "argument of type 'float' is not iterable",
     "output_type": "error",
     "traceback": [
      "\u001b[1;31m---------------------------------------------------------------------------\u001b[0m",
      "\u001b[1;31mTypeError\u001b[0m                                 Traceback (most recent call last)",
      "Cell \u001b[1;32mIn[55], line 15\u001b[0m\n\u001b[0;32m     13\u001b[0m \u001b[38;5;66;03m# Apply with tqdm for progress tracking\u001b[39;00m\n\u001b[0;32m     14\u001b[0m tqdm\u001b[38;5;241m.\u001b[39mpandas(desc\u001b[38;5;241m=\u001b[39m\u001b[38;5;124m\"\u001b[39m\u001b[38;5;124mMapping Companies\u001b[39m\u001b[38;5;124m\"\u001b[39m)\n\u001b[1;32m---> 15\u001b[0m df[\u001b[38;5;124m'\u001b[39m\u001b[38;5;124mCompany\u001b[39m\u001b[38;5;124m'\u001b[39m] \u001b[38;5;241m=\u001b[39m \u001b[43mdf\u001b[49m\u001b[43m[\u001b[49m\u001b[38;5;124;43m'\u001b[39;49m\u001b[38;5;124;43mmerged_text\u001b[39;49m\u001b[38;5;124;43m'\u001b[39;49m\u001b[43m]\u001b[49m\u001b[38;5;241;43m.\u001b[39;49m\u001b[43mprogress_apply\u001b[49m\u001b[43m(\u001b[49m\u001b[43mmap_to_company\u001b[49m\u001b[43m)\u001b[49m\n\u001b[0;32m     17\u001b[0m \u001b[38;5;28mprint\u001b[39m(\u001b[38;5;124m\"\u001b[39m\u001b[38;5;124m✅ Processing complete!\u001b[39m\u001b[38;5;124m\"\u001b[39m)\n",
      "File \u001b[1;32m~\\Desktop\\Python_Venv\\PreProcessor\\lib\\site-packages\\tqdm\\std.py:917\u001b[0m, in \u001b[0;36mtqdm.pandas.<locals>.inner_generator.<locals>.inner\u001b[1;34m(df, func, *args, **kwargs)\u001b[0m\n\u001b[0;32m    914\u001b[0m \u001b[38;5;66;03m# Apply the provided function (in **kwargs)\u001b[39;00m\n\u001b[0;32m    915\u001b[0m \u001b[38;5;66;03m# on the df using our wrapper (which provides bar updating)\u001b[39;00m\n\u001b[0;32m    916\u001b[0m \u001b[38;5;28;01mtry\u001b[39;00m:\n\u001b[1;32m--> 917\u001b[0m     \u001b[38;5;28;01mreturn\u001b[39;00m \u001b[38;5;28mgetattr\u001b[39m(df, df_function)(wrapper, \u001b[38;5;241m*\u001b[39m\u001b[38;5;241m*\u001b[39mkwargs)\n\u001b[0;32m    918\u001b[0m \u001b[38;5;28;01mfinally\u001b[39;00m:\n\u001b[0;32m    919\u001b[0m     t\u001b[38;5;241m.\u001b[39mclose()\n",
      "File \u001b[1;32m~\\Desktop\\Python_Venv\\PreProcessor\\lib\\site-packages\\pandas\\core\\series.py:4917\u001b[0m, in \u001b[0;36mSeries.apply\u001b[1;34m(self, func, convert_dtype, args, by_row, **kwargs)\u001b[0m\n\u001b[0;32m   4789\u001b[0m \u001b[38;5;28;01mdef\u001b[39;00m\u001b[38;5;250m \u001b[39m\u001b[38;5;21mapply\u001b[39m(\n\u001b[0;32m   4790\u001b[0m     \u001b[38;5;28mself\u001b[39m,\n\u001b[0;32m   4791\u001b[0m     func: AggFuncType,\n\u001b[1;32m   (...)\u001b[0m\n\u001b[0;32m   4796\u001b[0m     \u001b[38;5;241m*\u001b[39m\u001b[38;5;241m*\u001b[39mkwargs,\n\u001b[0;32m   4797\u001b[0m ) \u001b[38;5;241m-\u001b[39m\u001b[38;5;241m>\u001b[39m DataFrame \u001b[38;5;241m|\u001b[39m Series:\n\u001b[0;32m   4798\u001b[0m \u001b[38;5;250m    \u001b[39m\u001b[38;5;124;03m\"\"\"\u001b[39;00m\n\u001b[0;32m   4799\u001b[0m \u001b[38;5;124;03m    Invoke function on values of Series.\u001b[39;00m\n\u001b[0;32m   4800\u001b[0m \n\u001b[1;32m   (...)\u001b[0m\n\u001b[0;32m   4915\u001b[0m \u001b[38;5;124;03m    dtype: float64\u001b[39;00m\n\u001b[0;32m   4916\u001b[0m \u001b[38;5;124;03m    \"\"\"\u001b[39;00m\n\u001b[1;32m-> 4917\u001b[0m     \u001b[38;5;28;01mreturn\u001b[39;00m \u001b[43mSeriesApply\u001b[49m\u001b[43m(\u001b[49m\n\u001b[0;32m   4918\u001b[0m \u001b[43m        \u001b[49m\u001b[38;5;28;43mself\u001b[39;49m\u001b[43m,\u001b[49m\n\u001b[0;32m   4919\u001b[0m \u001b[43m        \u001b[49m\u001b[43mfunc\u001b[49m\u001b[43m,\u001b[49m\n\u001b[0;32m   4920\u001b[0m \u001b[43m        \u001b[49m\u001b[43mconvert_dtype\u001b[49m\u001b[38;5;241;43m=\u001b[39;49m\u001b[43mconvert_dtype\u001b[49m\u001b[43m,\u001b[49m\n\u001b[0;32m   4921\u001b[0m \u001b[43m        \u001b[49m\u001b[43mby_row\u001b[49m\u001b[38;5;241;43m=\u001b[39;49m\u001b[43mby_row\u001b[49m\u001b[43m,\u001b[49m\n\u001b[0;32m   4922\u001b[0m \u001b[43m        \u001b[49m\u001b[43margs\u001b[49m\u001b[38;5;241;43m=\u001b[39;49m\u001b[43margs\u001b[49m\u001b[43m,\u001b[49m\n\u001b[0;32m   4923\u001b[0m \u001b[43m        \u001b[49m\u001b[43mkwargs\u001b[49m\u001b[38;5;241;43m=\u001b[39;49m\u001b[43mkwargs\u001b[49m\u001b[43m,\u001b[49m\n\u001b[0;32m   4924\u001b[0m \u001b[43m    \u001b[49m\u001b[43m)\u001b[49m\u001b[38;5;241;43m.\u001b[39;49m\u001b[43mapply\u001b[49m\u001b[43m(\u001b[49m\u001b[43m)\u001b[49m\n",
      "File \u001b[1;32m~\\Desktop\\Python_Venv\\PreProcessor\\lib\\site-packages\\pandas\\core\\apply.py:1427\u001b[0m, in \u001b[0;36mSeriesApply.apply\u001b[1;34m(self)\u001b[0m\n\u001b[0;32m   1424\u001b[0m     \u001b[38;5;28;01mreturn\u001b[39;00m \u001b[38;5;28mself\u001b[39m\u001b[38;5;241m.\u001b[39mapply_compat()\n\u001b[0;32m   1426\u001b[0m \u001b[38;5;66;03m# self.func is Callable\u001b[39;00m\n\u001b[1;32m-> 1427\u001b[0m \u001b[38;5;28;01mreturn\u001b[39;00m \u001b[38;5;28;43mself\u001b[39;49m\u001b[38;5;241;43m.\u001b[39;49m\u001b[43mapply_standard\u001b[49m\u001b[43m(\u001b[49m\u001b[43m)\u001b[49m\n",
      "File \u001b[1;32m~\\Desktop\\Python_Venv\\PreProcessor\\lib\\site-packages\\pandas\\core\\apply.py:1507\u001b[0m, in \u001b[0;36mSeriesApply.apply_standard\u001b[1;34m(self)\u001b[0m\n\u001b[0;32m   1501\u001b[0m \u001b[38;5;66;03m# row-wise access\u001b[39;00m\n\u001b[0;32m   1502\u001b[0m \u001b[38;5;66;03m# apply doesn't have a `na_action` keyword and for backward compat reasons\u001b[39;00m\n\u001b[0;32m   1503\u001b[0m \u001b[38;5;66;03m# we need to give `na_action=\"ignore\"` for categorical data.\u001b[39;00m\n\u001b[0;32m   1504\u001b[0m \u001b[38;5;66;03m# TODO: remove the `na_action=\"ignore\"` when that default has been changed in\u001b[39;00m\n\u001b[0;32m   1505\u001b[0m \u001b[38;5;66;03m#  Categorical (GH51645).\u001b[39;00m\n\u001b[0;32m   1506\u001b[0m action \u001b[38;5;241m=\u001b[39m \u001b[38;5;124m\"\u001b[39m\u001b[38;5;124mignore\u001b[39m\u001b[38;5;124m\"\u001b[39m \u001b[38;5;28;01mif\u001b[39;00m \u001b[38;5;28misinstance\u001b[39m(obj\u001b[38;5;241m.\u001b[39mdtype, CategoricalDtype) \u001b[38;5;28;01melse\u001b[39;00m \u001b[38;5;28;01mNone\u001b[39;00m\n\u001b[1;32m-> 1507\u001b[0m mapped \u001b[38;5;241m=\u001b[39m \u001b[43mobj\u001b[49m\u001b[38;5;241;43m.\u001b[39;49m\u001b[43m_map_values\u001b[49m\u001b[43m(\u001b[49m\n\u001b[0;32m   1508\u001b[0m \u001b[43m    \u001b[49m\u001b[43mmapper\u001b[49m\u001b[38;5;241;43m=\u001b[39;49m\u001b[43mcurried\u001b[49m\u001b[43m,\u001b[49m\u001b[43m \u001b[49m\u001b[43mna_action\u001b[49m\u001b[38;5;241;43m=\u001b[39;49m\u001b[43maction\u001b[49m\u001b[43m,\u001b[49m\u001b[43m \u001b[49m\u001b[43mconvert\u001b[49m\u001b[38;5;241;43m=\u001b[39;49m\u001b[38;5;28;43mself\u001b[39;49m\u001b[38;5;241;43m.\u001b[39;49m\u001b[43mconvert_dtype\u001b[49m\n\u001b[0;32m   1509\u001b[0m \u001b[43m\u001b[49m\u001b[43m)\u001b[49m\n\u001b[0;32m   1511\u001b[0m \u001b[38;5;28;01mif\u001b[39;00m \u001b[38;5;28mlen\u001b[39m(mapped) \u001b[38;5;129;01mand\u001b[39;00m \u001b[38;5;28misinstance\u001b[39m(mapped[\u001b[38;5;241m0\u001b[39m], ABCSeries):\n\u001b[0;32m   1512\u001b[0m     \u001b[38;5;66;03m# GH#43986 Need to do list(mapped) in order to get treated as nested\u001b[39;00m\n\u001b[0;32m   1513\u001b[0m     \u001b[38;5;66;03m#  See also GH#25959 regarding EA support\u001b[39;00m\n\u001b[0;32m   1514\u001b[0m     \u001b[38;5;28;01mreturn\u001b[39;00m obj\u001b[38;5;241m.\u001b[39m_constructor_expanddim(\u001b[38;5;28mlist\u001b[39m(mapped), index\u001b[38;5;241m=\u001b[39mobj\u001b[38;5;241m.\u001b[39mindex)\n",
      "File \u001b[1;32m~\\Desktop\\Python_Venv\\PreProcessor\\lib\\site-packages\\pandas\\core\\base.py:921\u001b[0m, in \u001b[0;36mIndexOpsMixin._map_values\u001b[1;34m(self, mapper, na_action, convert)\u001b[0m\n\u001b[0;32m    918\u001b[0m \u001b[38;5;28;01mif\u001b[39;00m \u001b[38;5;28misinstance\u001b[39m(arr, ExtensionArray):\n\u001b[0;32m    919\u001b[0m     \u001b[38;5;28;01mreturn\u001b[39;00m arr\u001b[38;5;241m.\u001b[39mmap(mapper, na_action\u001b[38;5;241m=\u001b[39mna_action)\n\u001b[1;32m--> 921\u001b[0m \u001b[38;5;28;01mreturn\u001b[39;00m \u001b[43malgorithms\u001b[49m\u001b[38;5;241;43m.\u001b[39;49m\u001b[43mmap_array\u001b[49m\u001b[43m(\u001b[49m\u001b[43marr\u001b[49m\u001b[43m,\u001b[49m\u001b[43m \u001b[49m\u001b[43mmapper\u001b[49m\u001b[43m,\u001b[49m\u001b[43m \u001b[49m\u001b[43mna_action\u001b[49m\u001b[38;5;241;43m=\u001b[39;49m\u001b[43mna_action\u001b[49m\u001b[43m,\u001b[49m\u001b[43m \u001b[49m\u001b[43mconvert\u001b[49m\u001b[38;5;241;43m=\u001b[39;49m\u001b[43mconvert\u001b[49m\u001b[43m)\u001b[49m\n",
      "File \u001b[1;32m~\\Desktop\\Python_Venv\\PreProcessor\\lib\\site-packages\\pandas\\core\\algorithms.py:1743\u001b[0m, in \u001b[0;36mmap_array\u001b[1;34m(arr, mapper, na_action, convert)\u001b[0m\n\u001b[0;32m   1741\u001b[0m values \u001b[38;5;241m=\u001b[39m arr\u001b[38;5;241m.\u001b[39mastype(\u001b[38;5;28mobject\u001b[39m, copy\u001b[38;5;241m=\u001b[39m\u001b[38;5;28;01mFalse\u001b[39;00m)\n\u001b[0;32m   1742\u001b[0m \u001b[38;5;28;01mif\u001b[39;00m na_action \u001b[38;5;129;01mis\u001b[39;00m \u001b[38;5;28;01mNone\u001b[39;00m:\n\u001b[1;32m-> 1743\u001b[0m     \u001b[38;5;28;01mreturn\u001b[39;00m \u001b[43mlib\u001b[49m\u001b[38;5;241;43m.\u001b[39;49m\u001b[43mmap_infer\u001b[49m\u001b[43m(\u001b[49m\u001b[43mvalues\u001b[49m\u001b[43m,\u001b[49m\u001b[43m \u001b[49m\u001b[43mmapper\u001b[49m\u001b[43m,\u001b[49m\u001b[43m \u001b[49m\u001b[43mconvert\u001b[49m\u001b[38;5;241;43m=\u001b[39;49m\u001b[43mconvert\u001b[49m\u001b[43m)\u001b[49m\n\u001b[0;32m   1744\u001b[0m \u001b[38;5;28;01melse\u001b[39;00m:\n\u001b[0;32m   1745\u001b[0m     \u001b[38;5;28;01mreturn\u001b[39;00m lib\u001b[38;5;241m.\u001b[39mmap_infer_mask(\n\u001b[0;32m   1746\u001b[0m         values, mapper, mask\u001b[38;5;241m=\u001b[39misna(values)\u001b[38;5;241m.\u001b[39mview(np\u001b[38;5;241m.\u001b[39muint8), convert\u001b[38;5;241m=\u001b[39mconvert\n\u001b[0;32m   1747\u001b[0m     )\n",
      "File \u001b[1;32mlib.pyx:2972\u001b[0m, in \u001b[0;36mpandas._libs.lib.map_infer\u001b[1;34m()\u001b[0m\n",
      "File \u001b[1;32m~\\Desktop\\Python_Venv\\PreProcessor\\lib\\site-packages\\tqdm\\std.py:912\u001b[0m, in \u001b[0;36mtqdm.pandas.<locals>.inner_generator.<locals>.inner.<locals>.wrapper\u001b[1;34m(*args, **kwargs)\u001b[0m\n\u001b[0;32m    906\u001b[0m \u001b[38;5;28;01mdef\u001b[39;00m\u001b[38;5;250m \u001b[39m\u001b[38;5;21mwrapper\u001b[39m(\u001b[38;5;241m*\u001b[39margs, \u001b[38;5;241m*\u001b[39m\u001b[38;5;241m*\u001b[39mkwargs):\n\u001b[0;32m    907\u001b[0m     \u001b[38;5;66;03m# update tbar correctly\u001b[39;00m\n\u001b[0;32m    908\u001b[0m     \u001b[38;5;66;03m# it seems `pandas apply` calls `func` twice\u001b[39;00m\n\u001b[0;32m    909\u001b[0m     \u001b[38;5;66;03m# on the first column/row to decide whether it can\u001b[39;00m\n\u001b[0;32m    910\u001b[0m     \u001b[38;5;66;03m# take a fast or slow code path; so stop when t.total==t.n\u001b[39;00m\n\u001b[0;32m    911\u001b[0m     t\u001b[38;5;241m.\u001b[39mupdate(n\u001b[38;5;241m=\u001b[39m\u001b[38;5;241m1\u001b[39m \u001b[38;5;28;01mif\u001b[39;00m \u001b[38;5;129;01mnot\u001b[39;00m t\u001b[38;5;241m.\u001b[39mtotal \u001b[38;5;129;01mor\u001b[39;00m t\u001b[38;5;241m.\u001b[39mn \u001b[38;5;241m<\u001b[39m t\u001b[38;5;241m.\u001b[39mtotal \u001b[38;5;28;01melse\u001b[39;00m \u001b[38;5;241m0\u001b[39m)\n\u001b[1;32m--> 912\u001b[0m     \u001b[38;5;28;01mreturn\u001b[39;00m func(\u001b[38;5;241m*\u001b[39margs, \u001b[38;5;241m*\u001b[39m\u001b[38;5;241m*\u001b[39mkwargs)\n",
      "Cell \u001b[1;32mIn[55], line 9\u001b[0m, in \u001b[0;36mmap_to_company\u001b[1;34m(text)\u001b[0m\n\u001b[0;32m      7\u001b[0m \u001b[38;5;28;01mdef\u001b[39;00m\u001b[38;5;250m \u001b[39m\u001b[38;5;21mmap_to_company\u001b[39m(text):\n\u001b[0;32m      8\u001b[0m     \u001b[38;5;28;01mfor\u001b[39;00m company, keywords \u001b[38;5;129;01min\u001b[39;00m company_keywords\u001b[38;5;241m.\u001b[39mitems():\n\u001b[1;32m----> 9\u001b[0m         \u001b[38;5;28;01mif\u001b[39;00m \u001b[38;5;28;43many\u001b[39;49m\u001b[43m(\u001b[49m\u001b[43mkeyword\u001b[49m\u001b[43m \u001b[49m\u001b[38;5;129;43;01min\u001b[39;49;00m\u001b[43m \u001b[49m\u001b[43mtext\u001b[49m\u001b[43m \u001b[49m\u001b[38;5;28;43;01mfor\u001b[39;49;00m\u001b[43m \u001b[49m\u001b[43mkeyword\u001b[49m\u001b[43m \u001b[49m\u001b[38;5;129;43;01min\u001b[39;49;00m\u001b[43m \u001b[49m\u001b[43mkeywords\u001b[49m\u001b[43m)\u001b[49m:\n\u001b[0;32m     10\u001b[0m             \u001b[38;5;28;01mreturn\u001b[39;00m company\n\u001b[0;32m     11\u001b[0m     \u001b[38;5;28;01mreturn\u001b[39;00m \u001b[38;5;124m\"\u001b[39m\u001b[38;5;124mOther\u001b[39m\u001b[38;5;124m\"\u001b[39m\n",
      "Cell \u001b[1;32mIn[55], line 9\u001b[0m, in \u001b[0;36m<genexpr>\u001b[1;34m(.0)\u001b[0m\n\u001b[0;32m      7\u001b[0m \u001b[38;5;28;01mdef\u001b[39;00m\u001b[38;5;250m \u001b[39m\u001b[38;5;21mmap_to_company\u001b[39m(text):\n\u001b[0;32m      8\u001b[0m     \u001b[38;5;28;01mfor\u001b[39;00m company, keywords \u001b[38;5;129;01min\u001b[39;00m company_keywords\u001b[38;5;241m.\u001b[39mitems():\n\u001b[1;32m----> 9\u001b[0m         \u001b[38;5;28;01mif\u001b[39;00m \u001b[38;5;28many\u001b[39m(\u001b[43mkeyword\u001b[49m\u001b[43m \u001b[49m\u001b[38;5;129;43;01min\u001b[39;49;00m\u001b[43m \u001b[49m\u001b[43mtext\u001b[49m \u001b[38;5;28;01mfor\u001b[39;00m keyword \u001b[38;5;129;01min\u001b[39;00m keywords):\n\u001b[0;32m     10\u001b[0m             \u001b[38;5;28;01mreturn\u001b[39;00m company\n\u001b[0;32m     11\u001b[0m     \u001b[38;5;28;01mreturn\u001b[39;00m \u001b[38;5;124m\"\u001b[39m\u001b[38;5;124mOther\u001b[39m\u001b[38;5;124m\"\u001b[39m\n",
      "\u001b[1;31mTypeError\u001b[0m: argument of type 'float' is not iterable"
     ]
    }
   ],
   "source": [
    "from tqdm import tqdm\n",
    "\n",
    "# Step 1: Convert recipient names and UPI IDs to lowercase and merge them\n",
    "df['merged_text'] = (df['Recipient Name'].str.strip() + \" \" + df['UPI ID'].str.strip()).str.lower()\n",
    "\n",
    "# Step 2: Identify companies based on merged text with tqdm progress tracking\n",
    "def map_to_company(text):\n",
    "    for company, keywords in company_keywords.items():\n",
    "        if any(keyword in text for keyword in keywords):\n",
    "            return company\n",
    "    return \"Other\"\n",
    "\n",
    "# Apply with tqdm for progress tracking\n",
    "tqdm.pandas(desc=\"Mapping Companies\")\n",
    "df['Company'] = df['merged_text'].progress_apply(map_to_company)\n",
    "\n",
    "print(\"✅ Processing complete!\")\n"
   ]
  },
  {
   "cell_type": "code",
   "execution_count": 43,
   "id": "6a15db63",
   "metadata": {},
   "outputs": [
    {
     "name": "stderr",
     "output_type": "stream",
     "text": [
      "Mapping Companies: 100%|███████████████████████████████████████████████████████████████| 5/5 [00:00<00:00, 4848.91it/s]"
     ]
    },
    {
     "name": "stdout",
     "output_type": "stream",
     "text": [
      "     Recipient Name          UPI ID     Company\n",
      "0      Amazon India      amazon@upi      Amazon\n",
      "1  Bharti A Telecom   bhartia@icici      Airtel\n",
      "2     Dominos Pizza    dominos@hdfc     Dominos\n",
      "3          McD Food  mcdonalds@axis  McDonald's\n",
      "4    Google Payment     gpay@okhdfc  Google Pay\n"
     ]
    },
    {
     "name": "stderr",
     "output_type": "stream",
     "text": [
      "\n"
     ]
    }
   ],
   "source": [
    "import pandas as pd\n",
    "from tqdm import tqdm\n",
    "\n",
    "# Sample data\n",
    "data = {\n",
    "    \"Recipient Name\": [\"Amazon India\", \"Bharti A Telecom\", \"Dominos Pizza\", \"McD Food\", \"Google Payment\"],\n",
    "    \"UPI ID\": [\"amazon@upi\", \"bhartia@icici\", \"dominos@hdfc\", \"mcdonalds@axis\", \"gpay@okhdfc\"]\n",
    "}\n",
    "\n",
    "df = pd.DataFrame(data)\n",
    "\n",
    "# Company keywords dictionary\n",
    "company_keywords = {\n",
    "    \"BurgerKing\": [\"burgerking\", \"burger king\"],\n",
    "    \"McDonald's\": [\"mcdonald\", \"mcd\", \"mc donalds\"],\n",
    "    \"Amul\": [\"amul\"],\n",
    "    \"Airtel\": [\"airtel\", \"airtelpay\", \"bharti a\", \"bhartia\"],\n",
    "    \"Vodafone\": [\"vodafone\", \"vodapay\"],\n",
    "    \"Jio\": [\"jio\", \"reliance jio\"],\n",
    "    \"Amazon\": [\"amazon\"],\n",
    "    \"Flipkart\": [\"flipkart\"],\n",
    "    \"Swiggy\": [\"swiggy\"],\n",
    "    \"Zomato\": [\"zomato\"],\n",
    "    \"Google Pay\": [\"gpay\", \"googlepay\", \"tez\"],\n",
    "    \"Ola\": [\"ola\"],\n",
    "    \"Uber\": [\"uber\"],\n",
    "    \"Netflix\": [\"netflix\"],\n",
    "    \"Hotstar\": [\"hotstar\"],\n",
    "    \"Tata Sky\": [\"tatasky\"],\n",
    "    \"IRCTC\": [\"irctc\", \"railway\"],\n",
    "    \"Dominos\": [\"dominos\", \"domino's\"],\n",
    "    \"PizzaHut\": [\"pizzahut\", \"pizza hut\"],\n",
    "    \"Reliance\": [\"reliance\", \"reliance mart\"],\n",
    "    \"BigBazaar\": [\"bigbazaar\", \"big bazaar\"],\n",
    "}\n",
    "\n",
    "# Convert recipient names and UPI IDs to lowercase and merge them\n",
    "df['merged_text'] = (df['Recipient Name'].fillna('') + \" \" + df['UPI ID'].fillna('')).str.lower()\n",
    "\n",
    "# Function to map names to company\n",
    "def map_to_company(text):\n",
    "    for company, keywords in company_keywords.items():\n",
    "        if any(keyword in text for keyword in keywords):\n",
    "            return company\n",
    "    return \"Other\"\n",
    "\n",
    "# Apply with tqdm for progress tracking\n",
    "tqdm.pandas(desc=\"Mapping Companies\")\n",
    "df['Company'] = df['merged_text'].progress_apply(map_to_company)\n",
    "\n",
    "# Print the result\n",
    "print(df[['Recipient Name', 'UPI ID', 'Company']])\n"
   ]
  },
  {
   "cell_type": "code",
   "execution_count": 45,
   "id": "4897a72c",
   "metadata": {},
   "outputs": [
    {
     "data": {
      "text/plain": [
       "174"
      ]
     },
     "execution_count": 45,
     "metadata": {},
     "output_type": "execute_result"
    }
   ],
   "source": [
    "df_cleaned['Company'].isna().sum()"
   ]
  },
  {
   "cell_type": "code",
   "execution_count": 46,
   "id": "fea55465",
   "metadata": {},
   "outputs": [
    {
     "data": {
      "text/plain": [
       "194"
      ]
     },
     "execution_count": 46,
     "metadata": {},
     "output_type": "execute_result"
    }
   ],
   "source": [
    "len(df_cleaned['Company'])"
   ]
  },
  {
   "cell_type": "code",
   "execution_count": 48,
   "id": "442e4130",
   "metadata": {},
   "outputs": [
    {
     "name": "stdout",
     "output_type": "stream",
     "text": [
      "Row 0:\n",
      "  Recipient Name: Amazon India\n",
      "  UPI ID: amazon@upi\n",
      "  merged_text: amazon india amazon@upi\n",
      "  Company: Amazon\n",
      "--------------------------------------------------\n",
      "Row 1:\n",
      "  Recipient Name: Bharti A Telecom\n",
      "  UPI ID: bhartia@icici\n",
      "  merged_text: bharti a telecom bhartia@icici\n",
      "  Company: Airtel\n",
      "--------------------------------------------------\n",
      "Row 2:\n",
      "  Recipient Name: Dominos Pizza\n",
      "  UPI ID: dominos@hdfc\n",
      "  merged_text: dominos pizza dominos@hdfc\n",
      "  Company: Dominos\n",
      "--------------------------------------------------\n",
      "Row 3:\n",
      "  Recipient Name: McD Food\n",
      "  UPI ID: mcdonalds@axis\n",
      "  merged_text: mcd food mcdonalds@axis\n",
      "  Company: McDonald's\n",
      "--------------------------------------------------\n",
      "Row 4:\n",
      "  Recipient Name: Google Payment\n",
      "  UPI ID: gpay@okhdfc\n",
      "  merged_text: google payment gpay@okhdfc\n",
      "  Company: Google Pay\n",
      "--------------------------------------------------\n"
     ]
    }
   ],
   "source": [
    "def print_transaction_details(df):\n",
    "    \"\"\"\n",
    "    Prints every row with all the extracted details from the DataFrame.\n",
    "    \"\"\"\n",
    "    for index, row in df.iterrows():\n",
    "        print(f\"Row {index}:\")\n",
    "        for col in df.columns:\n",
    "            print(f\"  {col}: {row[col]}\")\n",
    "        print(\"-\" * 50)  # Separator for better readability\n",
    "# print_transaction_details()\n",
    "print_transaction_details(df)\n",
    "        \n"
   ]
  },
  {
   "cell_type": "code",
   "execution_count": null,
   "id": "b876d0ae",
   "metadata": {},
   "outputs": [],
   "source": []
  }
 ],
 "metadata": {
  "kernelspec": {
   "display_name": "PrePro",
   "language": "python",
   "name": "preprocessor"
  },
  "language_info": {
   "codemirror_mode": {
    "name": "ipython",
    "version": 3
   },
   "file_extension": ".py",
   "mimetype": "text/x-python",
   "name": "python",
   "nbconvert_exporter": "python",
   "pygments_lexer": "ipython3",
   "version": "3.9.6"
  }
 },
 "nbformat": 4,
 "nbformat_minor": 5
}
