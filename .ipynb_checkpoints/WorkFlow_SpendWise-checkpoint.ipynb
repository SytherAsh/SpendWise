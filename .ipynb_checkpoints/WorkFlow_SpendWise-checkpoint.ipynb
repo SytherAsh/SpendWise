{
 "cells": [
  {
   "cell_type": "code",
   "execution_count": 35,
   "id": "155e695f",
   "metadata": {},
   "outputs": [],
   "source": [
    "import pandas as pd\n",
    "pd.set_option('display.max_colwidth', None)  # Display full content of each column\n",
    "pd.set_option('display.max_columns', None)   # Display all columns\n",
    "pd.set_option('display.width', 5000)         # Set display width\n"
   ]
  },
  {
   "cell_type": "markdown",
   "id": "0988a635",
   "metadata": {},
   "source": [
    "Pdf-Csv\n",
    "--"
   ]
  },
  {
   "cell_type": "code",
   "execution_count": 22,
   "id": "cfb360e3",
   "metadata": {},
   "outputs": [],
   "source": [
    "import pdfplumber\n",
    "\n",
    "def pdf_to_csv(pdf_path,csv_path):\n",
    "    # Read PDF file\n",
    "    pdf = pdfplumber.open(pdf_path)\n",
    "\n",
    "    df = pd.DataFrame()\n",
    "\n",
    "    for i in range(len(pdf.pages)):\n",
    "        table = pdf.pages[i].extract_table()\n",
    "        local_df = pd.DataFrame(table[1:], columns=table[0])\n",
    "        df = pd.concat([df, local_df], ignore_index=True)\n",
    "    # Save to CSV\n",
    "    df.to_csv(csv_path, index=False)\n",
    "    \n"
   ]
  },
  {
   "cell_type": "markdown",
   "id": "c0f4c3ae",
   "metadata": {},
   "source": [
    "Csv-Organized\n",
    "--"
   ]
  },
  {
   "cell_type": "code",
   "execution_count": 24,
   "id": "db8827f2",
   "metadata": {},
   "outputs": [],
   "source": [
    "# pdf_path=\"\"\n",
    "# csv_path=\"\"\n",
    "\n",
    "# pdf_to_csv(pdf_path,csv_path)\n",
    "\n",
    "# df=pd.read_csv(csv_path)\n",
    "\n",
    "# df = df.replace('\\n', '', regex=True)\n",
    "\n",
    "# df = df.rename(columns={\n",
    "#     'Txn Date': 'Transaction Date',\n",
    "#     'Value\\nDate': 'Value Date',\n",
    "#     'Description': 'Description',\n",
    "#     'Ref No./Cheque\\nNo.': 'Reference No./Cheque No.',\n",
    "#     'Debit': 'Debit',\n",
    "#     'Credit': 'Credit',\n",
    "#     'Balance': 'Balance'\n",
    "# })\n",
    "\n",
    "# df.to_csv(csv_path,index=False)\n"
   ]
  },
  {
   "cell_type": "code",
   "execution_count": null,
   "id": "88612b74",
   "metadata": {},
   "outputs": [],
   "source": []
  },
  {
   "cell_type": "code",
   "execution_count": 25,
   "id": "1f40db75",
   "metadata": {},
   "outputs": [],
   "source": [
    "df=pd.read_csv('24-25.csv')\n"
   ]
  },
  {
   "cell_type": "code",
   "execution_count": 36,
   "id": "d11cf4c5",
   "metadata": {},
   "outputs": [
    {
     "data": {
      "text/html": [
       "<div>\n",
       "<style scoped>\n",
       "    .dataframe tbody tr th:only-of-type {\n",
       "        vertical-align: middle;\n",
       "    }\n",
       "\n",
       "    .dataframe tbody tr th {\n",
       "        vertical-align: top;\n",
       "    }\n",
       "\n",
       "    .dataframe thead th {\n",
       "        text-align: right;\n",
       "    }\n",
       "</style>\n",
       "<table border=\"1\" class=\"dataframe\">\n",
       "  <thead>\n",
       "    <tr style=\"text-align: right;\">\n",
       "      <th></th>\n",
       "      <th>Transaction Date</th>\n",
       "      <th>Value Date</th>\n",
       "      <th>Description</th>\n",
       "      <th>Reference No./Cheque No.</th>\n",
       "      <th>Debit</th>\n",
       "      <th>Credit</th>\n",
       "      <th>Balance</th>\n",
       "    </tr>\n",
       "  </thead>\n",
       "  <tbody>\n",
       "    <tr>\n",
       "      <th>0</th>\n",
       "      <td>2 Apr 2024</td>\n",
       "      <td>2 Apr 2024</td>\n",
       "      <td>TO TRANSFER-UPI/DR/409378221768/JULFIKAR/YESB/paytmqr1jc/baker-</td>\n",
       "      <td>TRANSFER TO4897691162095</td>\n",
       "      <td>30.00</td>\n",
       "      <td>NaN</td>\n",
       "      <td>954.40</td>\n",
       "    </tr>\n",
       "    <tr>\n",
       "      <th>1</th>\n",
       "      <td>4 Apr 2024</td>\n",
       "      <td>4 Apr 2024</td>\n",
       "      <td>BY TRANSFER-INBIMPS409519772968/9890160567/XX8237/Son-</td>\n",
       "      <td>MAM000078685023MAM000078685023</td>\n",
       "      <td>NaN</td>\n",
       "      <td>500.00</td>\n",
       "      <td>1,454.40</td>\n",
       "    </tr>\n",
       "    <tr>\n",
       "      <th>2</th>\n",
       "      <td>5 Apr 2024</td>\n",
       "      <td>5 Apr 2024</td>\n",
       "      <td>TO TRANSFER-UPI/DR/409652615602/VINAYAK /HDFC/vinayakpbh/UPI-</td>\n",
       "      <td>TRANSFER TO4897694162092</td>\n",
       "      <td>64.00</td>\n",
       "      <td>NaN</td>\n",
       "      <td>1,390.40</td>\n",
       "    </tr>\n",
       "    <tr>\n",
       "      <th>3</th>\n",
       "      <td>6 Apr 2024</td>\n",
       "      <td>6 Apr 2024</td>\n",
       "      <td>BY TRANSFER-INBIMPS409719092273/9890160567/XX8237/Son-</td>\n",
       "      <td>MAP000077101378MAP000077101378</td>\n",
       "      <td>NaN</td>\n",
       "      <td>1,500.00</td>\n",
       "      <td>2,890.40</td>\n",
       "    </tr>\n",
       "    <tr>\n",
       "      <th>4</th>\n",
       "      <td>9 Apr 2024</td>\n",
       "      <td>9 Apr 2024</td>\n",
       "      <td>TO TRANSFER-UPI/DR/410014886005/BHARTI A/AIRP/airtelprep/Payme-</td>\n",
       "      <td>TRANSFER TO4897691162095</td>\n",
       "      <td>719.00</td>\n",
       "      <td>NaN</td>\n",
       "      <td>2,171.40</td>\n",
       "    </tr>\n",
       "    <tr>\n",
       "      <th>...</th>\n",
       "      <td>...</td>\n",
       "      <td>...</td>\n",
       "      <td>...</td>\n",
       "      <td>...</td>\n",
       "      <td>...</td>\n",
       "      <td>...</td>\n",
       "      <td>...</td>\n",
       "    </tr>\n",
       "    <tr>\n",
       "      <th>294</th>\n",
       "      <td>4 Nov 2024</td>\n",
       "      <td>4 Nov 2024</td>\n",
       "      <td>BY TRANSFER-UPI/CR/430929085524/SAMEER B/ICIC/sawant.123/UPI-</td>\n",
       "      <td>TRANSFERFROM4897733162090</td>\n",
       "      <td>NaN</td>\n",
       "      <td>300.00</td>\n",
       "      <td>1,244.81</td>\n",
       "    </tr>\n",
       "    <tr>\n",
       "      <th>295</th>\n",
       "      <td>4 Nov 2024</td>\n",
       "      <td>4 Nov 2024</td>\n",
       "      <td>TO TRANSFER-UPI/DR/430902812486/ZOMATO L/UTIB/zomatoorde/UPI-</td>\n",
       "      <td>TRANSFER TO4897691162095</td>\n",
       "      <td>295.78</td>\n",
       "      <td>NaN</td>\n",
       "      <td>949.03</td>\n",
       "    </tr>\n",
       "    <tr>\n",
       "      <th>296</th>\n",
       "      <td>5 Nov 2024</td>\n",
       "      <td>5 Nov 2024</td>\n",
       "      <td>TO TRANSFER-UPI/DR/467686807162/DILIPKU/YESB/paytmqr5wr/UPI-</td>\n",
       "      <td>TRANSFER TO4897692162094</td>\n",
       "      <td>79.00</td>\n",
       "      <td>NaN</td>\n",
       "      <td>870.03</td>\n",
       "    </tr>\n",
       "    <tr>\n",
       "      <th>297</th>\n",
       "      <td>5 Nov 2024</td>\n",
       "      <td>5 Nov 2024</td>\n",
       "      <td>TO TRANSFER-UPI/DR/431057312820/SHINDE R/COSB/shinderayc/UPI-</td>\n",
       "      <td>TRANSFER TO4897692162094</td>\n",
       "      <td>15.00</td>\n",
       "      <td>NaN</td>\n",
       "      <td>855.03</td>\n",
       "    </tr>\n",
       "    <tr>\n",
       "      <th>298</th>\n",
       "      <td>6 Nov 2024</td>\n",
       "      <td>6 Nov 2024</td>\n",
       "      <td>TO TRANSFER-UPI/DR/431165845160/Bombay B/UTIB/8850949354/UPI-</td>\n",
       "      <td>TRANSFER TO4897693162093</td>\n",
       "      <td>70.00</td>\n",
       "      <td>NaN</td>\n",
       "      <td>785.03</td>\n",
       "    </tr>\n",
       "  </tbody>\n",
       "</table>\n",
       "<p>299 rows × 7 columns</p>\n",
       "</div>"
      ],
      "text/plain": [
       "    Transaction Date  Value Date                                                      Description        Reference No./Cheque No.   Debit    Credit   Balance\n",
       "0         2 Apr 2024  2 Apr 2024  TO TRANSFER-UPI/DR/409378221768/JULFIKAR/YESB/paytmqr1jc/baker-        TRANSFER TO4897691162095   30.00       NaN    954.40\n",
       "1         4 Apr 2024  4 Apr 2024           BY TRANSFER-INBIMPS409519772968/9890160567/XX8237/Son-  MAM000078685023MAM000078685023     NaN    500.00  1,454.40\n",
       "2         5 Apr 2024  5 Apr 2024    TO TRANSFER-UPI/DR/409652615602/VINAYAK /HDFC/vinayakpbh/UPI-        TRANSFER TO4897694162092   64.00       NaN  1,390.40\n",
       "3         6 Apr 2024  6 Apr 2024           BY TRANSFER-INBIMPS409719092273/9890160567/XX8237/Son-  MAP000077101378MAP000077101378     NaN  1,500.00  2,890.40\n",
       "4         9 Apr 2024  9 Apr 2024  TO TRANSFER-UPI/DR/410014886005/BHARTI A/AIRP/airtelprep/Payme-        TRANSFER TO4897691162095  719.00       NaN  2,171.40\n",
       "..               ...         ...                                                              ...                             ...     ...       ...       ...\n",
       "294       4 Nov 2024  4 Nov 2024    BY TRANSFER-UPI/CR/430929085524/SAMEER B/ICIC/sawant.123/UPI-       TRANSFERFROM4897733162090     NaN    300.00  1,244.81\n",
       "295       4 Nov 2024  4 Nov 2024    TO TRANSFER-UPI/DR/430902812486/ZOMATO L/UTIB/zomatoorde/UPI-        TRANSFER TO4897691162095  295.78       NaN    949.03\n",
       "296       5 Nov 2024  5 Nov 2024     TO TRANSFER-UPI/DR/467686807162/DILIPKU/YESB/paytmqr5wr/UPI-        TRANSFER TO4897692162094   79.00       NaN    870.03\n",
       "297       5 Nov 2024  5 Nov 2024    TO TRANSFER-UPI/DR/431057312820/SHINDE R/COSB/shinderayc/UPI-        TRANSFER TO4897692162094   15.00       NaN    855.03\n",
       "298       6 Nov 2024  6 Nov 2024    TO TRANSFER-UPI/DR/431165845160/Bombay B/UTIB/8850949354/UPI-        TRANSFER TO4897693162093   70.00       NaN    785.03\n",
       "\n",
       "[299 rows x 7 columns]"
      ]
     },
     "execution_count": 36,
     "metadata": {},
     "output_type": "execute_result"
    }
   ],
   "source": [
    "df"
   ]
  },
  {
   "cell_type": "code",
   "execution_count": 28,
   "id": "57ca9e59",
   "metadata": {},
   "outputs": [
    {
     "name": "stdout",
     "output_type": "stream",
     "text": [
      "Transaction Date                                                                 2 Apr 2024\n",
      "Value Date                                                                       2 Apr 2024\n",
      "Description                 TO TRANSFER-UPI/DR/409378221768/JULFIKAR/YESB/paytmqr1jc/baker-\n",
      "Reference No./Cheque No.                                           TRANSFER TO4897691162095\n",
      "Debit                                                                                 30.00\n",
      "Credit                                                                                  NaN\n",
      "Balance                                                                              954.40\n"
     ]
    }
   ],
   "source": [
    "print(df.iloc[0].to_string())"
   ]
  },
  {
   "cell_type": "code",
   "execution_count": null,
   "id": "eb87c1dd",
   "metadata": {},
   "outputs": [],
   "source": []
  },
  {
   "cell_type": "code",
   "execution_count": 37,
   "id": "5bb447b9",
   "metadata": {},
   "outputs": [
    {
     "data": {
      "text/plain": [
       "Transaction Date                                                        6 Apr 2024\n",
       "Value Date                                                              6 Apr 2024\n",
       "Description                 BY TRANSFER-INBIMPS409719092273/9890160567/XX8237/Son-\n",
       "Reference No./Cheque No.                            MAP000077101378MAP000077101378\n",
       "Debit                                                                          NaN\n",
       "Credit                                                                    1,500.00\n",
       "Balance                                                                   2,890.40\n",
       "Name: 3, dtype: object"
      ]
     },
     "execution_count": 37,
     "metadata": {},
     "output_type": "execute_result"
    }
   ],
   "source": [
    "df.iloc[3]"
   ]
  },
  {
   "cell_type": "code",
   "execution_count": 43,
   "id": "5f0246a0",
   "metadata": {},
   "outputs": [
    {
     "name": "stdout",
     "output_type": "stream",
     "text": [
      "Processing complete. Extracted data saved as 'processed_transactions.csv'.\n"
     ]
    }
   ],
   "source": [
    "import re\n",
    "\n",
    "pattern = r\"(?P<type>BY|TO) TRANSFER-(?P<method>UPI|INBIMPS|PMJJBYRENEWALSBIJB)\\S*/(?P<id>\\d+)/(?P<name>[^/]+)/(?P<bank>\\S+)(?:/(?P<upi_id>[^/]+))?\"\n",
    "\n",
    "def extract_details(transaction):\n",
    "    match = re.search(pattern, str(transaction))\n",
    "    if match:\n",
    "        return match.groupdict()\n",
    "    return {\"type\": None, \"method\": None, \"id\": None, \"name\": None, \"bank\": None, \"upi_id\": None}\n",
    "\n",
    "details_df = df[\"Description\"].apply(extract_details).apply(pd.Series)\n",
    "\n",
    "df = pd.concat([df, details_df], axis=1)\n",
    "\n",
    "\n",
    "print(\"Processing complete. Extracted data saved as 'processed_transactions.csv'.\")\n"
   ]
  },
  {
   "cell_type": "code",
   "execution_count": 46,
   "id": "1316be0d",
   "metadata": {},
   "outputs": [
    {
     "data": {
      "text/plain": [
       "Index(['Transaction Date', 'Value Date', 'Description', 'Reference No./Cheque No.', 'Debit', 'Credit', 'Balance', 'type', 'method', 'id', 'name', 'bank', 'upi_id'], dtype='object')"
      ]
     },
     "execution_count": 46,
     "metadata": {},
     "output_type": "execute_result"
    }
   ],
   "source": [
    "df.columns"
   ]
  },
  {
   "cell_type": "code",
   "execution_count": 106,
   "id": "129f00ae",
   "metadata": {},
   "outputs": [
    {
     "name": "stdout",
     "output_type": "stream",
     "text": [
      "TO TRANSFER-UPI/DR/409378221768/JULFIKAR/YESB/paytmqr1jc/baker-\n",
      "BY TRANSFER-INBIMPS409519772968/9890160567/XX8237/Son-\n",
      "TO TRANSFER-UPI/DR/409652615602/VINAYAK /HDFC/vinayakpbh/UPI-\n",
      "BY TRANSFER-INBIMPS409719092273/9890160567/XX8237/Son-\n",
      "TO TRANSFER-UPI/DR/410014886005/BHARTI A/AIRP/airtelprep/Payme-\n",
      "BY TRANSFER-INBIMPS410117363707/9890160567/XX4470/Son-\n",
      "TO TRANSFER-UPI/DR/410168592583/NETFLIX /HDFC/netflixupi/Month-\n",
      "BY TRANSFER-UPI/CR/410101718201/VINAYAK /HDFC/vinayakpbh/UPI-\n",
      "BY TRANSFER-UPI/CR/410122989383/ANUSHKA /SBIN/anushkashe/UPI-\n",
      "BY TRANSFER-UPI/CR/410119294504/SHUBHAM /BKID/shubhamraj/wet a-\n"
     ]
    }
   ],
   "source": [
    "for i in range(10):\n",
    "    print(df[\"Description\"][i])"
   ]
  },
  {
   "cell_type": "code",
   "execution_count": 104,
   "id": "c9647380",
   "metadata": {},
   "outputs": [
    {
     "name": "stdout",
     "output_type": "stream",
     "text": [
      "Transaction Type: TO\n",
      "Transaction Mode: UPI\n",
      "DR/CR Indicator: DR\n",
      "Transaction ID: 409378221768\n",
      "Recipient Name: JULFIKAR\n",
      "Bank Code: YESB\n",
      "UPI ID: paytmqr1jc\n",
      "Optional Data: baker-\n"
     ]
    }
   ],
   "source": [
    "import re\n",
    "\n",
    "pattern = r\"(?P<type>BY|TO) TRANSFER-(?P<method>UPI|INBIMPS|PMJJBYRENEWALSBIJB)/(?P<drcr>DR|CR)/(?P<id>\\d+)/(?P<name>[^/]+)/(?P<bank>[^/]+)(?:/(?P<upi_id>[^/-]+))?(?:/(?P<optional>[^/]+))?(?:/UPI-)?\"\n",
    "\n",
    "text = \"TO TRANSFER-UPI/DR/409378221768/JULFIKAR/YESB/paytmqr1jc/baker-\"\n",
    "# text = \"BY TRANSFER-INBIMPS409519772968/9890160567/XX8237/Son-\"\n",
    "# text = \"TO TRANSFER-UPI/DR/409652615602/VINAYAK /HDFC/vinayakpbh/UPI-\"\n",
    "\n",
    "\n",
    "match = re.search(pattern, text)\n",
    "if match:\n",
    "    print(f\"Transaction Type: {match.group('type')}\")\n",
    "    print(f\"Transaction Mode: {match.group('method')}\")\n",
    "    print(f\"DR/CR Indicator: {match.group('drcr')}\")\n",
    "    print(f\"Transaction ID: {match.group('id')}\")\n",
    "    print(f\"Recipient Name: {match.group('name')}\")\n",
    "    print(f\"Bank Code: {match.group('bank')}\")\n",
    "    print(f\"UPI ID: {match.group('upi_id') if match.group('upi_id') else 'N/A'}\")\n",
    "    print(f\"Optional Data: {match.group('optional') if match.group('optional') else 'N/A'}\")\n",
    "else:\n",
    "    print(\"No match found\")\n"
   ]
  },
  {
   "cell_type": "code",
   "execution_count": 105,
   "id": "e7fc4340",
   "metadata": {},
   "outputs": [
    {
     "name": "stdout",
     "output_type": "stream",
     "text": [
      "Transaction Type: BY\n",
      "Transaction Mode: INBIMPS\n",
      "DR/CR Indicator: N/A\n",
      "Transaction ID: 409519772968\n",
      "Recipient Name: 9890160567\n",
      "Bank Code: XX8237\n",
      "UPI ID: Son\n",
      "Optional Data: N/A\n"
     ]
    }
   ],
   "source": [
    "import re\n",
    "\n",
    "pattern = r\"(?P<type>BY|TO) TRANSFER-(?P<method>UPI|INBIMPS|PMJJBYRENEWALSBIJB)(?P<id>\\d+)(?:/(?P<drcr>DR|CR))?/(?P<name>[^/]+)/(?P<bank>[^/]+)(?:/(?P<upi_id>[^/-]+))?(?:/(?P<optional>[^/]+))?(?:/UPI-)?\"\n",
    "\n",
    "text = \"BY TRANSFER-INBIMPS409519772968/9890160567/XX8237/Son-\"\n",
    "\n",
    "match = re.search(pattern, text)\n",
    "\n",
    "if match:\n",
    "    print(f\"Transaction Type: {match.group('type')}\")\n",
    "    print(f\"Transaction Mode: {match.group('method')}\")\n",
    "    print(f\"DR/CR Indicator: {match.group('drcr') if match.group('drcr') else 'N/A'}\")\n",
    "    print(f\"Transaction ID: {match.group('id')}\")\n",
    "    print(f\"Recipient Name: {match.group('name')}\")\n",
    "    print(f\"Bank Code: {match.group('bank')}\")\n",
    "    print(f\"UPI ID: {match.group('upi_id') if match.group('upi_id') else 'N/A'}\")\n",
    "    print(f\"Optional Data: {match.group('optional') if match.group('optional') else 'N/A'}\")\n",
    "else:\n",
    "    print(\"No match found\")\n"
   ]
  },
  {
   "cell_type": "code",
   "execution_count": null,
   "id": "10dc3b0c",
   "metadata": {},
   "outputs": [],
   "source": []
  },
  {
   "cell_type": "code",
   "execution_count": 51,
   "id": "848d5357",
   "metadata": {},
   "outputs": [],
   "source": [
    "# df.head(20)"
   ]
  },
  {
   "cell_type": "code",
   "execution_count": 47,
   "id": "eb5d7c3c",
   "metadata": {},
   "outputs": [],
   "source": [
    "def print_transaction_details(df):\n",
    "    \"\"\"\n",
    "    Prints every row with all the extracted details from the DataFrame.\n",
    "    \"\"\"\n",
    "    for index, row in df.iterrows():\n",
    "        print(f\"Row {index}:\")\n",
    "        for col in df.columns:\n",
    "            print(f\"  {col}: {row[col]}\")\n",
    "        print(\"-\" * 50)  # Separator for better readability"
   ]
  },
  {
   "cell_type": "code",
   "execution_count": 98,
   "id": "9a9c38ce",
   "metadata": {},
   "outputs": [],
   "source": [
    "# print_transaction_details(df)"
   ]
  },
  {
   "cell_type": "code",
   "execution_count": null,
   "id": "df93bd6e",
   "metadata": {},
   "outputs": [],
   "source": []
  },
  {
   "cell_type": "code",
   "execution_count": 113,
   "id": "aa80ae60",
   "metadata": {},
   "outputs": [
    {
     "data": {
      "text/plain": [
       "(0, 1)"
      ]
     },
     "execution_count": 113,
     "metadata": {},
     "output_type": "execute_result"
    }
   ],
   "source": []
  },
  {
   "cell_type": "code",
   "execution_count": 114,
   "id": "25d6d547",
   "metadata": {},
   "outputs": [
    {
     "data": {
      "text/plain": [
       "(0, 1)"
      ]
     },
     "execution_count": 114,
     "metadata": {},
     "output_type": "execute_result"
    }
   ],
   "source": [
    "df_by_final.shape"
   ]
  },
  {
   "cell_type": "code",
   "execution_count": null,
   "id": "3dc4ca29",
   "metadata": {},
   "outputs": [],
   "source": []
  }
 ],
 "metadata": {
  "kernelspec": {
   "display_name": "PrePro",
   "language": "python",
   "name": "preprocessor"
  },
  "language_info": {
   "codemirror_mode": {
    "name": "ipython",
    "version": 3
   },
   "file_extension": ".py",
   "mimetype": "text/x-python",
   "name": "python",
   "nbconvert_exporter": "python",
   "pygments_lexer": "ipython3",
   "version": "3.9.6"
  }
 },
 "nbformat": 4,
 "nbformat_minor": 5
}
